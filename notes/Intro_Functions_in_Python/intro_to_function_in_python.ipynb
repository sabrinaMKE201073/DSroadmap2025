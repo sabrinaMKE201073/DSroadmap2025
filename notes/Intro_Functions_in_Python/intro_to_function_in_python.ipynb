{
  "nbformat": 4,
  "nbformat_minor": 0,
  "metadata": {
    "colab": {
      "provenance": [],
      "authorship_tag": "ABX9TyPkuzGK/P/40OXSCHbNamey",
      "include_colab_link": true
    },
    "kernelspec": {
      "name": "python3",
      "display_name": "Python 3"
    },
    "language_info": {
      "name": "python"
    }
  },
  "cells": [
    {
      "cell_type": "markdown",
      "metadata": {
        "id": "view-in-github",
        "colab_type": "text"
      },
      "source": [
        "<a href=\"https://colab.research.google.com/github/sabrinaMKE201073/DSroadmap2025/blob/main/notes/Intro_Functions_in_Python/intro_to_function_in_python.ipynb\" target=\"_parent\"><img src=\"https://colab.research.google.com/assets/colab-badge.svg\" alt=\"Open In Colab\"/></a>"
      ]
    },
    {
      "cell_type": "markdown",
      "source": [
        "# How to define our own functions"
      ],
      "metadata": {
        "id": "cNaFinQnGRcz"
      }
    },
    {
      "cell_type": "code",
      "execution_count": 2,
      "metadata": {
        "colab": {
          "base_uri": "https://localhost:8080/"
        },
        "id": "mgSNjJCTFBGr",
        "outputId": "bc35e6e3-4218-4e64-dd2b-8fc2f3b009c8"
      },
      "outputs": [
        {
          "output_type": "stream",
          "name": "stdout",
          "text": [
            "5\n",
            "<class 'str'>\n"
          ]
        }
      ],
      "source": [
        "x = str(5)\n",
        "print(x)\n",
        "print(type(x))"
      ]
    },
    {
      "cell_type": "code",
      "source": [
        "#define a function\n",
        "def square(): # <- Function header\n",
        "  new_value = 4 ** 2 # <- Function body\n",
        "  print(new_value)\n",
        "\n",
        "square()"
      ],
      "metadata": {
        "colab": {
          "base_uri": "https://localhost:8080/"
        },
        "id": "R_hj5eGmGHI4",
        "outputId": "f7865707-66e1-4705-92be-54e92632d97c"
      },
      "execution_count": 6,
      "outputs": [
        {
          "output_type": "stream",
          "name": "stdout",
          "text": [
            "16\n"
          ]
        }
      ]
    },
    {
      "cell_type": "code",
      "source": [
        "#Define a Function parameters (for any value)\n",
        "def square(value):\n",
        "  new_value = value ** 2\n",
        "  print(new_value)\n",
        "\n",
        "square(4)"
      ],
      "metadata": {
        "colab": {
          "base_uri": "https://localhost:8080/"
        },
        "id": "sE5Kwz78GHaf",
        "outputId": "452abbb4-0ce6-4849-bca5-f0a16d449fa8"
      },
      "execution_count": 7,
      "outputs": [
        {
          "output_type": "stream",
          "name": "stdout",
          "text": [
            "16\n"
          ]
        }
      ]
    },
    {
      "cell_type": "code",
      "source": [
        "square(5)"
      ],
      "metadata": {
        "colab": {
          "base_uri": "https://localhost:8080/"
        },
        "id": "LAhft86UGHei",
        "outputId": "7e3e12d0-b1c6-4d54-a360-1caf065af8c9"
      },
      "execution_count": 8,
      "outputs": [
        {
          "output_type": "stream",
          "name": "stdout",
          "text": [
            "25\n"
          ]
        }
      ]
    },
    {
      "cell_type": "code",
      "source": [
        "#Return values from function\n",
        "def square(value):\n",
        "  new_value = value ** 2\n",
        "  print(new_value)\n",
        "\n",
        "num = square(4)\n",
        "\n",
        "print(num)"
      ],
      "metadata": {
        "colab": {
          "base_uri": "https://localhost:8080/"
        },
        "id": "iedoa89NGHiH",
        "outputId": "5daf6c8a-230c-4e53-99ae-2f55289ffa9e"
      },
      "execution_count": 12,
      "outputs": [
        {
          "output_type": "stream",
          "name": "stdout",
          "text": [
            "16\n",
            "None\n"
          ]
        }
      ]
    },
    {
      "cell_type": "markdown",
      "source": [
        "## DOCSTRINGS\n",
        "> - Describe what your function does\n",
        "> - Serve as documentation for ur function\n",
        "> - Placed in the immediate line after the function header\n",
        "> - In between triple double quotes \" \" \""
      ],
      "metadata": {
        "id": "-k1ZOT4bIlTZ"
      }
    },
    {
      "cell_type": "code",
      "source": [
        "def square(value):\n",
        "  \"\"\"Returns the square of a value.\"\"\"\n",
        "  new_value = value ** 2\n",
        "  return new_value"
      ],
      "metadata": {
        "id": "2dsqOiqsGHo7"
      },
      "execution_count": 16,
      "outputs": []
    },
    {
      "cell_type": "code",
      "source": [
        "company = 'DataCamp'\n",
        "object1 = \"data\" + \"analysis\" + \"visualization\"\n",
        "object2 = 1 * 3\n",
        "object3 = \"1\" * 3"
      ],
      "metadata": {
        "id": "Cc9xOfiAGHsE"
      },
      "execution_count": 18,
      "outputs": []
    },
    {
      "cell_type": "code",
      "source": [
        "print(object1)\n",
        "print(object2)\n",
        "print(object3)"
      ],
      "metadata": {
        "colab": {
          "base_uri": "https://localhost:8080/"
        },
        "id": "D1FHFOl0KiF3",
        "outputId": "ed1a4a5a-0605-4568-a4e7-dc0777ac925c"
      },
      "execution_count": 20,
      "outputs": [
        {
          "output_type": "stream",
          "name": "stdout",
          "text": [
            "dataanalysisvisualization\n",
            "3\n",
            "111\n"
          ]
        }
      ]
    },
    {
      "cell_type": "code",
      "source": [
        "x = 4.89\n",
        "y1 = str(x)\n",
        "y2 = print(x)"
      ],
      "metadata": {
        "colab": {
          "base_uri": "https://localhost:8080/"
        },
        "id": "iQPOhpuQKiQH",
        "outputId": "36b3adc5-818b-473e-b329-3edfea021ac2"
      },
      "execution_count": 23,
      "outputs": [
        {
          "output_type": "stream",
          "name": "stdout",
          "text": [
            "4.89\n"
          ]
        }
      ]
    },
    {
      "cell_type": "code",
      "source": [
        "print(type(x))\n",
        "print(type(y1))\n",
        "print(type(y2))"
      ],
      "metadata": {
        "colab": {
          "base_uri": "https://localhost:8080/"
        },
        "id": "2Ij8g1mkKiTf",
        "outputId": "c023f477-6385-46d1-aa0a-d1e92f35586d"
      },
      "execution_count": 24,
      "outputs": [
        {
          "output_type": "stream",
          "name": "stdout",
          "text": [
            "<class 'float'>\n",
            "<class 'str'>\n",
            "<class 'NoneType'>\n"
          ]
        }
      ]
    },
    {
      "cell_type": "code",
      "source": [
        "# Define the function shout\n",
        "def shout():\n",
        "    \"\"\"Print a string with three exclamation marks\"\"\"\n",
        "    # Concatenate the strings: shout_word\n",
        "    shout_word = 'congratulations' + '!!!'\n",
        "    # Print shout_word\n",
        "    print(shout_word)\n",
        "\n",
        "# Call shout\n",
        "shout()"
      ],
      "metadata": {
        "colab": {
          "base_uri": "https://localhost:8080/"
        },
        "id": "rJK07QXmN10U",
        "outputId": "1d79165f-fef1-4401-a9fe-2d0ced4f36eb"
      },
      "execution_count": 25,
      "outputs": [
        {
          "output_type": "stream",
          "name": "stdout",
          "text": [
            "congratulations!!!\n"
          ]
        }
      ]
    },
    {
      "cell_type": "code",
      "source": [
        "# Define shout with the parameter, word\n",
        "def shout(word):\n",
        "    \"\"\"Print a string with three exclamation marks\"\"\"\n",
        "    # Concatenate the strings: shout_word\n",
        "    shout_word = word + '!!!'\n",
        "    # Print shout_word\n",
        "    print(shout_word)\n",
        "\n",
        "# Call shout with the string 'Good Job'\n",
        "shout('Good Job')"
      ],
      "metadata": {
        "colab": {
          "base_uri": "https://localhost:8080/"
        },
        "id": "LzC5qEiAOas0",
        "outputId": "80cf5f60-6144-4133-bacb-bb6dd621e0fa"
      },
      "execution_count": 27,
      "outputs": [
        {
          "output_type": "stream",
          "name": "stdout",
          "text": [
            "Good Job!!!\n"
          ]
        }
      ]
    },
    {
      "cell_type": "code",
      "source": [
        "# Define shout with the parameter, word\n",
        "def shout(word):\n",
        "    \"\"\"Return a string with three exclamation marks\"\"\"\n",
        "    # Concatenate the strings: shout_word\n",
        "    shout_word = word + '!!!'\n",
        "\n",
        "    # Replace print with return\n",
        "    return shout_word\n",
        "\n",
        "# Pass 'congratulations' to shout: yell\n",
        "yell = shout('congratulations')\n",
        "\n",
        "# Print yell\n",
        "print (yell)"
      ],
      "metadata": {
        "colab": {
          "base_uri": "https://localhost:8080/"
        },
        "id": "Dwg5YD_fPgQc",
        "outputId": "beb59463-4500-4683-b7e3-df6887551091"
      },
      "execution_count": 28,
      "outputs": [
        {
          "output_type": "stream",
          "name": "stdout",
          "text": [
            "congratulations!!!\n"
          ]
        }
      ]
    },
    {
      "cell_type": "code",
      "source": [
        "def raise_both (value1, value2):\n",
        "  \"\"\"Raise value1 to the power of value2\n",
        "  and vice versa.\"\"\"\n",
        "\n",
        "  new_value1 = value1 ** value2\n",
        "  new_value2 = value2 ** value1\n",
        "\n",
        "  new_tuple = (new_value1, new_value2)\n",
        "\n",
        "  return new_tuple"
      ],
      "metadata": {
        "id": "O-gImVfLPu78"
      },
      "execution_count": 29,
      "outputs": []
    },
    {
      "cell_type": "code",
      "source": [
        "result = raise_both (2, 3)\n",
        "print(result)"
      ],
      "metadata": {
        "colab": {
          "base_uri": "https://localhost:8080/"
        },
        "id": "Nm2SsSgMPugt",
        "outputId": "8310ad6a-19e1-47a0-cecd-4868793454f1"
      },
      "execution_count": 30,
      "outputs": [
        {
          "output_type": "stream",
          "name": "stdout",
          "text": [
            "(8, 9)\n"
          ]
        }
      ]
    },
    {
      "cell_type": "code",
      "source": [
        "# Define shout with parameters word1 and word2\n",
        "def shout(word1, word2):\n",
        "    \"\"\"Concatenate strings with three exclamation marks\"\"\"\n",
        "    # Concatenate word1 with '!!!': shout1\n",
        "    shout1 = word1 + '!!!'\n",
        "\n",
        "    # Concatenate word2 with '!!!': shout2\n",
        "    shout2 = word2 + '!!!'\n",
        "\n",
        "    # Concatenate shout1 with shout2: new_shout\n",
        "    new_shout = shout1 + shout2\n",
        "\n",
        "    # Return new_shout\n",
        "    return new_shout\n",
        "\n",
        "# Pass 'congratulations' and 'you' to shout(): yell\n",
        "yell = shout('congratulations','you')\n",
        "\n",
        "# Print yell\n",
        "print(yell)"
      ],
      "metadata": {
        "colab": {
          "base_uri": "https://localhost:8080/"
        },
        "id": "qH9Hlp04RpTV",
        "outputId": "4edbee8b-1ea9-458d-8d27-e3704c0b3977"
      },
      "execution_count": 31,
      "outputs": [
        {
          "output_type": "stream",
          "name": "stdout",
          "text": [
            "congratulations!!!you!!!\n"
          ]
        }
      ]
    },
    {
      "cell_type": "code",
      "source": [
        "# A sample 3-element tuple (assume this was preloaded)\n",
        "nums = (1, 3, 5)\n",
        "\n",
        "# Unpack nums into num1, num2, and num3\n",
        "num1, num2, num3 = nums\n",
        "\n",
        "# Construct even_nums\n",
        "even_nums = (2, num2, num3)\n",
        "\n",
        "# Print to verify\n",
        "print(\"Original nums:\", nums)\n",
        "print(\"Modified even_nums:\", even_nums)"
      ],
      "metadata": {
        "colab": {
          "base_uri": "https://localhost:8080/"
        },
        "id": "uchRFgpwTZa0",
        "outputId": "aa1e0a0a-e99b-4c68-b15a-34375b36e804"
      },
      "execution_count": 32,
      "outputs": [
        {
          "output_type": "stream",
          "name": "stdout",
          "text": [
            "Original nums: (1, 3, 5)\n",
            "Modified even_nums: (2, 3, 5)\n"
          ]
        }
      ]
    },
    {
      "cell_type": "code",
      "source": [
        "# Define shout_all with parameters word1 and word2\n",
        "def shout_all(word1, word2):\n",
        "    \"\"\"Return a tuple of strings\"\"\"\n",
        "    # Concatenate word1 with '!!!': shout1\n",
        "    shout1 = word1 + '!!!'\n",
        "\n",
        "    # Concatenate word2 with '!!!': shout2\n",
        "    shout2 = word2 + '!!!'\n",
        "\n",
        "    # Construct a tuple with shout1 and shout2: shout_words\n",
        "    shout_words = (shout1,shout2)\n",
        "\n",
        "    # Return shout_words\n",
        "    return shout_words\n",
        "\n",
        "# Pass 'congratulations' and 'you' to shout_all(): yell1, yell2\n",
        "yell1, yell2 = shout_all('congratulations','you')\n",
        "\n",
        "# Print yell1 and yell2\n",
        "print(yell1)\n",
        "print(yell2)"
      ],
      "metadata": {
        "colab": {
          "base_uri": "https://localhost:8080/"
        },
        "id": "bIW8pgd9UZDE",
        "outputId": "eda1ae1c-9249-4b9a-b56e-a735f404c27c"
      },
      "execution_count": 33,
      "outputs": [
        {
          "output_type": "stream",
          "name": "stdout",
          "text": [
            "congratulations!!!\n",
            "you!!!\n"
          ]
        }
      ]
    }
  ]
}