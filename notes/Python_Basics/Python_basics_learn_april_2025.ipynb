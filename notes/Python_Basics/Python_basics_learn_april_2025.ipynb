{
  "nbformat": 4,
  "nbformat_minor": 0,
  "metadata": {
    "colab": {
      "provenance": [],
      "include_colab_link": true
    },
    "kernelspec": {
      "name": "python3",
      "display_name": "Python 3"
    },
    "language_info": {
      "name": "python"
    }
  },
  "cells": [
    {
      "cell_type": "markdown",
      "metadata": {
        "id": "view-in-github",
        "colab_type": "text"
      },
      "source": [
        "<a href=\"https://colab.research.google.com/github/sabrinaMKE201073/DSroadmap2025/blob/main/Python_basics_learn_april_2025.ipynb\" target=\"_parent\"><img src=\"https://colab.research.google.com/assets/colab-badge.svg\" alt=\"Open In Colab\"/></a>"
      ]
    },
    {
      "cell_type": "markdown",
      "source": [
        "# **LIST METHODS**"
      ],
      "metadata": {
        "id": "7hUZu7a_6_sb"
      }
    },
    {
      "cell_type": "markdown",
      "source": [
        "*   .index(), to get the index of the first element of a list that matches its input\n",
        "*   .count(), to get the number of times an element appears in a list.\n",
        "\n",
        "\n"
      ],
      "metadata": {
        "id": "KlW6oJCl8PYg"
      }
    },
    {
      "cell_type": "code",
      "source": [
        "# Create list areas\n",
        "areas = [11.25, 18.0, 20.0, 10.75, 9.50]\n",
        "\n",
        "# Print out the index of the element 20.0\n",
        "print (areas.index(20.0))\n",
        "\n",
        "# Print out how often 9.50 appears in areas\n",
        "print (areas.count(9.50))\n"
      ],
      "metadata": {
        "colab": {
          "base_uri": "https://localhost:8080/"
        },
        "id": "Rw569jaZ7LNU",
        "outputId": "1849709c-28c6-4507-90d7-a9a2a69eb4d6"
      },
      "execution_count": null,
      "outputs": [
        {
          "output_type": "stream",
          "name": "stdout",
          "text": [
            "2\n",
            "1\n"
          ]
        }
      ]
    },
    {
      "cell_type": "markdown",
      "source": [
        "\n",
        "\n",
        "*   .append(), that adds an element to the list it is called\n",
        "\n",
        "*   .remove(), that removes the first element of a list that matches the input\n",
        "\n",
        "*   .reverse(), that reverses the order of the elements in the list it is called on\n",
        "\n",
        "\n",
        "\n"
      ],
      "metadata": {
        "id": "JENCLVdO81Pr"
      }
    },
    {
      "cell_type": "code",
      "source": [
        "# Create list areas\n",
        "areas = [11.25, 18.0, 20.0, 10.75, 9.50]\n",
        "\n",
        "# Use append twice to add poolhouse and garage size\n",
        "areas.append (24.5)\n",
        "areas.append (15.45)\n",
        "\n",
        "# Print out areas\n",
        "print(areas)\n",
        "\n",
        "# Reverse the orders of the elements in areas\n",
        "areas.reverse()\n",
        "\n",
        "# Print out areas\n",
        "print(areas)\n"
      ],
      "metadata": {
        "colab": {
          "base_uri": "https://localhost:8080/"
        },
        "id": "E82arMwX8bAL",
        "outputId": "ef4aca46-2278-46a2-ae76-2ccbe64f574f"
      },
      "execution_count": null,
      "outputs": [
        {
          "output_type": "stream",
          "name": "stdout",
          "text": [
            "[11.25, 18.0, 20.0, 10.75, 9.5, 24.5, 15.45]\n",
            "[15.45, 24.5, 9.5, 10.75, 20.0, 18.0, 11.25]\n"
          ]
        }
      ]
    },
    {
      "cell_type": "markdown",
      "source": [
        "# PACKAGES"
      ],
      "metadata": {
        "id": "bRmtbO0PSHZI"
      }
    },
    {
      "cell_type": "markdown",
      "source": [
        "Packages = directory of python scripts\n",
        "Each script = module\n",
        "\n",
        "Eg of Packages;\n",
        "- NumPy (calculation)\n",
        "- Matplotlib (data visualization)\n",
        "- Scikit-learn (for ML)"
      ],
      "metadata": {
        "id": "ks0-FBSrSUaT"
      }
    },
    {
      "cell_type": "code",
      "source": [
        "import numpy as np\n",
        "np.array([1, 2, 3])"
      ],
      "metadata": {
        "colab": {
          "base_uri": "https://localhost:8080/"
        },
        "id": "n5ae9hnvFnJw",
        "outputId": "b8e47436-ef20-48ba-ddbc-43fa36139137"
      },
      "execution_count": null,
      "outputs": [
        {
          "output_type": "execute_result",
          "data": {
            "text/plain": [
              "array([1, 2, 3])"
            ]
          },
          "metadata": {},
          "execution_count": 4
        }
      ]
    },
    {
      "cell_type": "code",
      "source": [
        "#another method can used this line for long script\n",
        "#to use array function later\n",
        "from numpy import array\n",
        "array([1, 2, 3])"
      ],
      "metadata": {
        "colab": {
          "base_uri": "https://localhost:8080/"
        },
        "id": "7lDAUXkAXBhl",
        "outputId": "2e095616-bd59-497a-a3e2-4597c9928ee8"
      },
      "execution_count": null,
      "outputs": [
        {
          "output_type": "execute_result",
          "data": {
            "text/plain": [
              "array([1, 2, 3])"
            ]
          },
          "metadata": {},
          "execution_count": 6
        }
      ]
    },
    {
      "cell_type": "code",
      "source": [
        "#PRACTICE TIME\n",
        "\n",
        "# MATH FORMULA\n",
        "# Circumference, C = 2(Pi)r\n",
        "# Area, A = Pi(r)**2\n",
        "# ** refer to exponential/known as square of\n",
        "\n",
        "# Import the math package\n",
        "import math\n",
        "\n",
        "# Calculate C\n",
        "C = 2 * 0.43 * math.pi\n",
        "\n",
        "# Calculate A\n",
        "A = math.pi * 0.43 ** 2\n",
        "\n",
        "print(\"Circumference: \" + str(C))\n",
        "print(\"Area: \" + str(A))"
      ],
      "metadata": {
        "id": "qG0dgf9nXwPL",
        "colab": {
          "base_uri": "https://localhost:8080/"
        },
        "outputId": "ec608c07-0d7a-476a-d50a-a3249cd1cb53"
      },
      "execution_count": null,
      "outputs": [
        {
          "output_type": "stream",
          "name": "stdout",
          "text": [
            "Circumference: 2.701769682087222\n",
            "Area: 0.5808804816487527\n"
          ]
        }
      ]
    },
    {
      "cell_type": "markdown",
      "source": [
        "# NUMPY"
      ],
      "metadata": {
        "id": "hJnMb-zTpZYY"
      }
    },
    {
      "cell_type": "code",
      "source": [
        "# Import the numpy package as np\n",
        "import numpy as np\n",
        "\n",
        "baseball = [180, 215, 210, 210, 188, 176, 209, 200]\n",
        "\n",
        "# Create a numpy array from baseball: np_baseball\n",
        "np_baseball = np.array(baseball)\n",
        "\n",
        "# Print out type of np_baseball\n",
        "print(type(np_baseball))\n"
      ],
      "metadata": {
        "colab": {
          "base_uri": "https://localhost:8080/"
        },
        "id": "_-LfFF7Vpr4s",
        "outputId": "1fcedd5a-73b5-4ee0-d855-119044b29d1d"
      },
      "execution_count": null,
      "outputs": [
        {
          "output_type": "stream",
          "name": "stdout",
          "text": [
            "<class 'numpy.ndarray'>\n"
          ]
        }
      ]
    },
    {
      "cell_type": "markdown",
      "source": [
        "**17 April (NUMPY)**"
      ],
      "metadata": {
        "id": "LOqZwu06xpD7"
      }
    },
    {
      "cell_type": "code",
      "source": [
        "import numpy as np\n",
        "\n",
        "# Example dummy data (you can use real MLB data if you have it)\n",
        "weight_lb = [150 + i for i in range(200)]     # 200 sample weights\n",
        "height_in = [65 + (i % 10) for i in range(200)]  # 200 sample heights\n",
        "\n",
        "np_weight_lb = np.array(weight_lb)\n",
        "np_height_in = np.array(height_in)\n",
        "\n",
        "# Print out the weight at index 50\n",
        "print (np_weight_lb[50])\n",
        "\n",
        "# Print out sub-array of np_height_in: index 100 up to and including index 110\n",
        "print(np_height_in[100:111])"
      ],
      "metadata": {
        "colab": {
          "base_uri": "https://localhost:8080/"
        },
        "id": "IEHCIDOYxytF",
        "outputId": "747d9168-f13d-4789-d05a-9555ea68c066"
      },
      "execution_count": null,
      "outputs": [
        {
          "output_type": "stream",
          "name": "stdout",
          "text": [
            "200\n",
            "[65 66 67 68 69 70 71 72 73 74 65]\n"
          ]
        }
      ]
    },
    {
      "cell_type": "code",
      "source": [
        "import numpy as np\n",
        "\n",
        "baseball = [[180, 78.4],\n",
        "            [215, 102.7],\n",
        "            [210, 98.5],\n",
        "            [188, 75.2]]\n",
        "\n",
        "# Create a 2D numpy array from baseball: np_baseball\n",
        "np_baseball = np.array(baseball)\n",
        "\n",
        "# Print out the type of np_baseball\n",
        "print(type(np_baseball))\n",
        "\n",
        "# Print out the shape of np_baseball\n",
        "print(\"shape of np_baseball:\", np_baseball.shape)"
      ],
      "metadata": {
        "colab": {
          "base_uri": "https://localhost:8080/"
        },
        "id": "3CX-sOo7ZSam",
        "outputId": "0a1a2776-6cf2-4492-86a6-33063e9b242b"
      },
      "execution_count": null,
      "outputs": [
        {
          "output_type": "stream",
          "name": "stdout",
          "text": [
            "<class 'numpy.ndarray'>\n",
            "shape of np_baseball: (4, 2)\n"
          ]
        }
      ]
    },
    {
      "cell_type": "code",
      "source": [
        "#Baseball data in 2D form\n",
        "\n",
        "import numpy as np\n",
        "\n",
        "#mock example data\n",
        "# Create mock data: 130 players with random [height, weight]\n",
        "# Format: [height (in inches), weight (in pounds)]\n",
        "baseball = [[180 + (i % 10), 75 + (i % 20)] for i in range(130)]\n",
        "\n",
        "np_baseball = np.array(baseball)\n",
        "\n",
        "# Print out the 50th row of np_baseball\n",
        "print(np_baseball[49,:])\n",
        "\n",
        "# Select the entire second column of np_baseball: np_weight_lb\n",
        "np_weight_lb = np_baseball[:,1]\n",
        "print(np_weight_lb)\n",
        "\n",
        "# Print out height of 124th player\n",
        "print(\"height of 124th player:\", np_baseball[123,0])"
      ],
      "metadata": {
        "colab": {
          "base_uri": "https://localhost:8080/"
        },
        "id": "DIko9cwEZXVW",
        "outputId": "e754bc6d-1e22-4a70-9614-ef33f89f0b2e"
      },
      "execution_count": null,
      "outputs": [
        {
          "output_type": "stream",
          "name": "stdout",
          "text": [
            "[189  84]\n",
            "[75 76 77 78 79 80 81 82 83 84 85 86 87 88 89 90 91 92 93 94 75 76 77 78\n",
            " 79 80 81 82 83 84 85 86 87 88 89 90 91 92 93 94 75 76 77 78 79 80 81 82\n",
            " 83 84 85 86 87 88 89 90 91 92 93 94 75 76 77 78 79 80 81 82 83 84 85 86\n",
            " 87 88 89 90 91 92 93 94 75 76 77 78 79 80 81 82 83 84 85 86 87 88 89 90\n",
            " 91 92 93 94 75 76 77 78 79 80 81 82 83 84 85 86 87 88 89 90 91 92 93 94\n",
            " 75 76 77 78 79 80 81 82 83 84]\n",
            "height of 124th player: 183\n"
          ]
        }
      ]
    },
    {
      "cell_type": "code",
      "source": [
        "import numpy as np\n",
        "\n",
        "# Example data for baseball (height in inches, weight in lbs, age in years)\n",
        "baseball = [[180, 78.4, 25],\n",
        "            [215, 102.7, 30],\n",
        "            [210, 98.5, 28],\n",
        "            [188, 75.2, 24]]\n",
        "\n",
        "# Example updates: change in height, weight, and age\n",
        "updated = [[1, 0.5, 1],\n",
        "           [0, -0.5, 0],\n",
        "           [2, 1.0, 1],\n",
        "           [-1, -1.5, -1]]\n",
        "\n",
        "# Convert both to NumPy arrays\n",
        "np_baseball = np.array(baseball)\n",
        "updated = np.array(updated)\n",
        "\n",
        "# Print out addition of np_baseball and updated\n",
        "print(\"Updated baseball data:\\n\", np_baseball + updated)\n",
        "\n",
        "# Create numpy array: conversion (inch→meter, lb→kg, age stays the same)\n",
        "conversion = np.array([0.0254, 0.453592, 1])\n",
        "\n",
        "# Print out product of np_baseball and conversion (element-wise broadcasting)\n",
        "print(\"Metric baseball data:\\n\", np_baseball * conversion)\n"
      ],
      "metadata": {
        "colab": {
          "base_uri": "https://localhost:8080/"
        },
        "id": "djS8uKxveCmo",
        "outputId": "0741b9da-c59c-41dd-b327-dc6efd066ece"
      },
      "execution_count": null,
      "outputs": [
        {
          "output_type": "stream",
          "name": "stdout",
          "text": [
            "Updated baseball data:\n",
            " [[181.   78.9  26. ]\n",
            " [215.  102.2  30. ]\n",
            " [212.   99.5  29. ]\n",
            " [187.   73.7  23. ]]\n",
            "Metric baseball data:\n",
            " [[ 4.572     35.5616128 25.       ]\n",
            " [ 5.461     46.5838984 30.       ]\n",
            " [ 5.334     44.678812  28.       ]\n",
            " [ 4.7752    34.1101184 24.       ]]\n"
          ]
        }
      ]
    },
    {
      "cell_type": "code",
      "source": [
        "import numpy as np\n",
        "\n",
        "# Example data (height, weight, age)\n",
        "baseball = [[180, 78.4, 25],\n",
        "            [215, 102.7, 30],\n",
        "            [210, 98.5, 28],\n",
        "            [188, 75.2, 24]]\n",
        "\n",
        "# Convert to NumPy array\n",
        "np_baseball = np.array(baseball)\n",
        "\n",
        "# Create np_height_in from np_baseball\n",
        "np_height_in = np.array(np_baseball[:,0])\n",
        "\n",
        "# Print out the mean of np_height_in\n",
        "print(\"mean:\",np.mean(np_height_in))\n",
        "\n",
        "# Print out the median of np_height_in\n",
        "print(\"median:\",np.median(np_height_in))"
      ],
      "metadata": {
        "colab": {
          "base_uri": "https://localhost:8080/"
        },
        "id": "BPfdSb4Wf69d",
        "outputId": "78c6af22-ddc2-4b1a-d41b-3288f1c5b82f"
      },
      "execution_count": null,
      "outputs": [
        {
          "output_type": "stream",
          "name": "stdout",
          "text": [
            "mean: 198.25\n",
            "median: 199.0\n"
          ]
        }
      ]
    },
    {
      "cell_type": "markdown",
      "source": [
        "**np.mean()** → Average height\n",
        "\n",
        "**np.median()** → Middle value when sorted\n",
        "\n",
        "**np.std()** → Standard deviation (how spread out the heights are)\n",
        "\n",
        "**np.corrcoef(col1, col2)** → Returns a 2×2 correlation matrix. The value at [0,1] or [1,0] is the correlation between height and weight."
      ],
      "metadata": {
        "id": "nHYViAQwh0Xt"
      }
    },
    {
      "cell_type": "code",
      "source": [
        "import numpy as np\n",
        "\n",
        "# Example data: [height (in), weight (lb), age]\n",
        "baseball = [[180, 78.4, 25],\n",
        "            [215, 102.7, 30],\n",
        "            [210, 98.5, 28],\n",
        "            [188, 75.2, 24]]\n",
        "\n",
        "# Convert to numpy array\n",
        "np_baseball = np.array(baseball)\n",
        "\n",
        "avg = np.mean(np_baseball[:,0])\n",
        "print(\"Average: \" + str(avg))\n",
        "\n",
        "# Print median height\n",
        "med = np.median(np_baseball[:,0])\n",
        "print(\"Median: \" + str(med))\n",
        "\n",
        "# Print out the standard deviation on height\n",
        "stddev = np.std(np_baseball[:,0])\n",
        "print(\"Standard Deviation: \" + str(stddev))\n",
        "\n",
        "# Print out correlation between first and second column\n",
        "corr = np.corrcoef(np_baseball[:,0],np_baseball[:,1])\n",
        "print(\"Correlation:\\n\" + str(corr))"
      ],
      "metadata": {
        "colab": {
          "base_uri": "https://localhost:8080/"
        },
        "id": "nWuzulc6hqpo",
        "outputId": "13cea43a-9c6b-41ea-c509-3ffa3df54266"
      },
      "execution_count": null,
      "outputs": [
        {
          "output_type": "stream",
          "name": "stdout",
          "text": [
            "Average: 198.25\n",
            "Median: 199.0\n",
            "Standard Deviation: 14.635146053251399\n",
            "Correlation:\n",
            "[[1.         0.95865738]\n",
            " [0.95865738 1.        ]]\n"
          ]
        }
      ]
    },
    {
      "cell_type": "markdown",
      "source": [
        "# **BASIC matplotlib.pyplot as plt**\n",
        "\n",
        "\n",
        "*   Line plot\n",
        "*   Scatter plot\n",
        "\n",
        "\n",
        "*   Histogram\n",
        "\n",
        "\n",
        "\n"
      ],
      "metadata": {
        "id": "ApShjL7ChF62"
      }
    },
    {
      "cell_type": "code",
      "source": [
        "# Print the last item from year and pop\n",
        "year = [1950,1970,1990,2010]\n",
        "pop = [2.519, 3.692, 5.263, 6.972]\n",
        "\n",
        "print(year[-1])\n",
        "print(pop[-1])\n",
        "\n",
        "# Import matplotlib.pyplot as plt\n",
        "import matplotlib.pyplot as plt\n",
        "\n",
        "# Make a line plot: year on the x-axis, pop on the y-axis\n",
        "plt.plot(year,pop)\n",
        "\n",
        "# Display the plot with plt.show()\n",
        "plt.show()"
      ],
      "metadata": {
        "colab": {
          "base_uri": "https://localhost:8080/",
          "height": 465
        },
        "id": "1G169Xj_8n1D",
        "outputId": "fd4e779d-277c-45da-8d50-7962bdc4dc39"
      },
      "execution_count": null,
      "outputs": [
        {
          "output_type": "stream",
          "name": "stdout",
          "text": [
            "2010\n",
            "6.972\n"
          ]
        },
        {
          "output_type": "display_data",
          "data": {
            "text/plain": [
              "<Figure size 640x480 with 1 Axes>"
            ],
            "image/png": "[encoded data removed]"
          },
          "metadata": {}
        }
      ]
    },
    {
      "cell_type": "code",
      "source": [
        "# Print the last item from year and pop\n",
        "print(year[-1])\n",
        "print(pop[-1])\n",
        "\n",
        "# Import matplotlib.pyplot as plt\n",
        "import matplotlib.pyplot as plt\n",
        "\n",
        "# Make a line plot: year on the x-axis, pop on the y-axis\n",
        "plt.plot(year, pop)\n",
        "\n",
        "# Display the plot with plt.show()\n",
        "plt.show()"
      ],
      "metadata": {
        "colab": {
          "base_uri": "https://localhost:8080/",
          "height": 465
        },
        "id": "I2H_Q_Pn8xqZ",
        "outputId": "61978695-08dd-4e20-b7fc-278ebf82b5a6"
      },
      "execution_count": null,
      "outputs": [
        {
          "output_type": "stream",
          "name": "stdout",
          "text": [
            "2010\n",
            "6.972\n"
          ]
        },
        {
          "output_type": "display_data",
          "data": {
            "text/plain": [
              "<Figure size 640x480 with 1 Axes>"
            ],
            "image/png": "[encoded data removed]"
          },
          "metadata": {}
        }
      ]
    },
    {
      "cell_type": "code",
      "source": [
        "import matplotlib.pyplot as plt\n",
        "\n",
        "# Provide actual data for gdp_cap and life_exp\n",
        "# Here's a small sample; replace with full lists as needed\n",
        "gdp_cap = [974.58, 5937.03, 6223.37, 4797.23, 12779.38, 34435.37, 36126.49]\n",
        "life_exp = [43.83, 76.42, 72.30, 42.73, 75.32, 81.76, 79.44]\n",
        "\n",
        "# Print the last item of gdp_cap and life_exp\n",
        "print(\"Last GDP per capita:\", gdp_cap[-1])\n",
        "print(\"Last Life Expectancy:\", life_exp[-1])\n",
        "\n",
        "# Make a line plot\n",
        "plt.plot(gdp_cap, life_exp)\n",
        "\n",
        "# Add labels and title (optional but good practice)\n",
        "plt.xlabel('GDP per Capita (USD)')\n",
        "plt.ylabel('Life Expectancy (years)')\n",
        "plt.title('Life Expectancy vs GDP per Capita')\n",
        "\n",
        "# Display the plot\n",
        "plt.show()\n"
      ],
      "metadata": {
        "colab": {
          "base_uri": "https://localhost:8080/",
          "height": 507
        },
        "id": "PwFlcWOb9E56",
        "outputId": "362da7cf-bdbe-4ef2-bb1d-6d9a70457ba7"
      },
      "execution_count": null,
      "outputs": [
        {
          "output_type": "stream",
          "name": "stdout",
          "text": [
            "Last GDP per capita: 36126.49\n",
            "Last Life Expectancy: 79.44\n"
          ]
        },
        {
          "output_type": "display_data",
          "data": {
            "text/plain": [
              "<Figure size 640x480 with 1 Axes>"
            ],
            "image/png": "[encoded data removed]"
          },
          "metadata": {}
        }
      ]
    },
    {
      "cell_type": "code",
      "source": [
        "# Change the line plot below to a scatter plot\n",
        "plt.scatter(gdp_cap, life_exp)\n",
        "\n",
        "# Put the x-axis on a logarithmic scale\n",
        "plt.xscale('log')\n",
        "\n",
        "# Show plot\n",
        "plt.show()"
      ],
      "metadata": {
        "colab": {
          "base_uri": "https://localhost:8080/",
          "height": 434
        },
        "id": "_XmombcXA6ni",
        "outputId": "63694af8-12af-4419-89bd-a6ee93e69467"
      },
      "execution_count": null,
      "outputs": [
        {
          "output_type": "display_data",
          "data": {
            "text/plain": [
              "<Figure size 640x480 with 1 Axes>"
            ],
            "image/png": "[encoded data removed]"
          },
          "metadata": {}
        }
      ]
    },
    {
      "cell_type": "code",
      "source": [
        "# Import matplotlib (should already be available in Colab)\n",
        "import matplotlib.pyplot as plt\n",
        "\n",
        "# Sample life_exp data – replace with the full list as needed\n",
        "life_exp = [43.8, 76.4, 72.3, 42.7, 75.3, 81.8, 79.4, 78.6, 48.3, 76.5, 60.2, 72.0]\n",
        "\n",
        "# Create histogram of life_exp data\n",
        "plt.hist(life_exp)\n",
        "\n",
        "# Add labels and title (optional, but recommended)\n",
        "plt.xlabel('Life Expectancy')\n",
        "plt.ylabel('Number of Countries')\n",
        "plt.title('Distribution of Life Expectancy (2007)')\n",
        "\n",
        "# Display histogram\n",
        "plt.show()"
      ],
      "metadata": {
        "colab": {
          "base_uri": "https://localhost:8080/",
          "height": 472
        },
        "id": "Ul6AE16efRHp",
        "outputId": "276c4810-4019-45b4-80a8-f74432013d0c"
      },
      "execution_count": null,
      "outputs": [
        {
          "output_type": "display_data",
          "data": {
            "text/plain": [
              "<Figure size 640x480 with 1 Axes>"
            ],
            "image/png": "[encoded data removed]"
          },
          "metadata": {}
        }
      ]
    },
    {
      "cell_type": "code",
      "source": [
        "values = [0, 0.6, 1.4, 1.6, 2.2, 2.5, 2.6, 3.2, 3.5, 3.9, 4.2, 6]\n",
        "\n",
        "plt.hist(values, bins=3)\n",
        "plt.show()"
      ],
      "metadata": {
        "colab": {
          "base_uri": "https://localhost:8080/",
          "height": 430
        },
        "id": "EwG_um72hhTW",
        "outputId": "a89d5b28-27db-45ba-ea21-b53c983e65c4"
      },
      "execution_count": null,
      "outputs": [
        {
          "output_type": "display_data",
          "data": {
            "text/plain": [
              "<Figure size 640x480 with 1 Axes>"
            ],
            "image/png": "[encoded data removed]"
          },
          "metadata": {}
        }
      ]
    },
    {
      "cell_type": "code",
      "source": [
        "#19 april\n",
        "# Import matplotlib\n",
        "import matplotlib.pyplot as plt\n",
        "\n",
        "# Example data (replace these with your actual data)\n",
        "gdp_cap = [974.5803384, 5937.029525, 6223.367465, 4797.231267]\n",
        "life_exp = [43.828, 76.423, 72.301, 42.731]\n",
        "\n",
        "# Basic scatter plot, log scale\n",
        "plt.scatter(gdp_cap, life_exp)\n",
        "plt.xscale('log')\n",
        "\n",
        "# Strings\n",
        "xlab = 'GDP per Capita [in USD]'\n",
        "ylab = 'Life Expectancy [in years]'\n",
        "title = 'World Development in 2007'\n",
        "\n",
        "# Add axis labels\n",
        "plt.xlabel(xlab)\n",
        "plt.ylabel(ylab)\n",
        "\n",
        "# Add title\n",
        "plt.title(title)\n",
        "\n",
        "# After customizing, display the plot\n",
        "plt.show()"
      ],
      "metadata": {
        "colab": {
          "base_uri": "https://localhost:8080/",
          "height": 476
        },
        "id": "CiQ8CaBj-AQt",
        "outputId": "f31ea8f8-aa96-41b6-d6ea-677d2db97d8b"
      },
      "execution_count": null,
      "outputs": [
        {
          "output_type": "display_data",
          "data": {
            "text/plain": [
              "<Figure size 640x480 with 1 Axes>"
            ],
            "image/png": "[encoded data removed]"
          },
          "metadata": {}
        }
      ]
    },
    {
      "cell_type": "code",
      "source": [
        "#Scatter plot\n",
        "plt.scatter(gdp_cap, life_exp)\n",
        "\n",
        "# Previous customizations\n",
        "plt.xscale('log')\n",
        "plt.xlabel('GDP per Capita [in USD]')\n",
        "plt.ylabel('Life Expectancy [in years]')\n",
        "plt.title('World Development in 2007')\n",
        "\n",
        "# Definition of tick_val and tick_lab\n",
        "tick_val = [1000, 10000, 100000]\n",
        "tick_lab = ['1k', '10k', '100k']\n",
        "\n",
        "# Adapt the ticks on the x-axis\n",
        "plt.xticks(tick_val,tick_lab)\n",
        "\n",
        "# After customizing, display the plot\n",
        "plt.show()"
      ],
      "metadata": {
        "id": "RbbrOBUpBKkX"
      },
      "execution_count": null,
      "outputs": []
    },
    {
      "cell_type": "code",
      "source": [
        "# Import required library\n",
        "import matplotlib.pyplot as plt\n",
        "\n",
        "# Example data (replace with your actual data)\n",
        "gdp_cap = [974.58, 5937.03, 6223.37, 4797.23, 12779.38, 34435.37]\n",
        "life_exp = [43.83, 76.42, 72.30, 42.73, 75.32, 81.76]\n",
        "\n",
        "# Scatter plot\n",
        "plt.scatter(gdp_cap, life_exp)\n",
        "\n",
        "# Previous customizations\n",
        "plt.xscale('log')\n",
        "plt.xlabel('GDP per Capita [in USD]')\n",
        "plt.ylabel('Life Expectancy [in years]')\n",
        "plt.title('World Development in 2007')\n",
        "\n",
        "# Definition of tick_val and tick_lab\n",
        "tick_val = [1000, 10000, 100000]\n",
        "tick_lab = ['1k', '10k', '100k']\n",
        "\n",
        "# Adapt the ticks on the x-axis\n",
        "plt.xticks(tick_val, tick_lab)\n",
        "\n",
        "# After customizing, display the plot\n",
        "plt.show()"
      ],
      "metadata": {
        "colab": {
          "base_uri": "https://localhost:8080/",
          "height": 472
        },
        "id": "O8zuP7V9BX6y",
        "outputId": "a3b3b5a6-7dd9-4be1-ce9d-779517e97d96"
      },
      "execution_count": null,
      "outputs": [
        {
          "output_type": "display_data",
          "data": {
            "text/plain": [
              "<Figure size 640x480 with 1 Axes>"
            ],
            "image/png": "[encoded data removed]"
          },
          "metadata": {}
        }
      ]
    },
    {
      "cell_type": "code",
      "source": [
        "# Import libraries\n",
        "import numpy as np\n",
        "import matplotlib.pyplot as plt\n",
        "\n",
        "# Example data (replace with your real data)\n",
        "gdp_cap = [974.58, 5937.03, 6223.37, 4797.23, 12779.38, 34435.37]\n",
        "life_exp = [43.83, 76.42, 72.30, 42.73, 75.32, 81.76]\n",
        "pop = [31.89, 3.47, 33.76, 12.42, 40.30, 20.43]\n",
        "region = ['Asia', 'Europe', 'Africa', 'Americas', 'Asia', 'Oceania']  # example regions\n",
        "\n",
        "# Color mapping dictionary\n",
        "color_dict = {\n",
        "    'Asia': 'red',\n",
        "    'Europe': 'green',\n",
        "    'Africa': 'blue',\n",
        "    'Americas': 'yellow',\n",
        "    'Oceania': 'black'\n",
        "}\n",
        "\n",
        "# Create a list of colors based on region\n",
        "col = [color_dict[r] for r in region]\n",
        "\n",
        "# Specify c and alpha inside plt.scatter()\n",
        "plt.scatter(x=gdp_cap,\n",
        "            y=life_exp,\n",
        "            s=np.array(pop) * 2,\n",
        "            c=col,\n",
        "            alpha=0.8)\n",
        "\n",
        "# Previous customizations\n",
        "plt.xscale('log')\n",
        "plt.xlabel('GDP per Capita [in USD]')\n",
        "plt.ylabel('Life Expectancy [in years]')\n",
        "plt.title('World Development in 2007')\n",
        "plt.xticks([1000, 10000, 100000], ['1k', '10k', '100k'])\n",
        "\n",
        "# Show the plot\n",
        "plt.show()"
      ],
      "metadata": {
        "colab": {
          "base_uri": "https://localhost:8080/",
          "height": 472
        },
        "id": "TwKSiuv3FcDE",
        "outputId": "7de28ba0-7ab0-4429-8c5e-9ff656588732"
      },
      "execution_count": null,
      "outputs": [
        {
          "output_type": "display_data",
          "data": {
            "text/plain": [
              "<Figure size 640x480 with 1 Axes>"
            ],
            "image/png": "[encoded data removed]"
          },
          "metadata": {}
        }
      ]
    },
    {
      "cell_type": "markdown",
      "source": [
        "# **DICTIONARIES PART 1**"
      ],
      "metadata": {
        "id": "CxuufPg1DFiR"
      }
    },
    {
      "cell_type": "code",
      "source": [
        "# Definition of countries and capital\n",
        "countries = ['spain', 'france', 'germany', 'norway']\n",
        "capitals = ['madrid', 'paris', 'berlin', 'oslo']\n",
        "\n",
        "# Get index of 'germany': ind_ger\n",
        "ind_ger = countries.index('germany')\n",
        "\n",
        "# Use ind_ger to print out capital of Germany\n",
        "print(capitals[ind_ger])\n"
      ],
      "metadata": {
        "colab": {
          "base_uri": "https://localhost:8080/"
        },
        "id": "iu-oMJOEDMVe",
        "outputId": "a8913128-0310-4af9-d4ea-fe706b204491"
      },
      "execution_count": null,
      "outputs": [
        {
          "output_type": "stream",
          "name": "stdout",
          "text": [
            "berlin\n"
          ]
        }
      ]
    },
    {
      "cell_type": "code",
      "source": [
        "#example dictionary\n",
        "my_dict = {\n",
        "   \"key1\":\"value1\",\n",
        "   \"key2\":\"value2\",\n",
        "}\n",
        "\n",
        "#call out key2 value\n",
        "my_dict[\"key2\"]"
      ],
      "metadata": {
        "colab": {
          "base_uri": "https://localhost:8080/",
          "height": 35
        },
        "id": "xvdVj0bdI0nY",
        "outputId": "dc8ec767-e82e-44df-f374-79989873512e"
      },
      "execution_count": null,
      "outputs": [
        {
          "output_type": "execute_result",
          "data": {
            "text/plain": [
              "'value2'"
            ],
            "application/vnd.google.colaboratory.intrinsic+json": {
              "type": "string"
            }
          },
          "metadata": {},
          "execution_count": 7
        }
      ]
    },
    {
      "cell_type": "code",
      "source": [
        "# Definition of countries and capital\n",
        "countries = ['spain', 'france', 'germany', 'norway']\n",
        "capitals = ['madrid', 'paris', 'berlin', 'oslo']\n",
        "\n",
        "# From string in countries and capitals, create dictionary europe\n",
        "europe = {'spain':'madrid', 'france':'paris' ,\n",
        "        'germany':'berlin','norway':'oslo'}\n",
        "\n",
        "# Print europe\n",
        "print(europe)"
      ],
      "metadata": {
        "colab": {
          "base_uri": "https://localhost:8080/"
        },
        "id": "yNQaeugoJjZM",
        "outputId": "7e5daf18-c00a-42d8-b78e-b11198cfa2c6"
      },
      "execution_count": null,
      "outputs": [
        {
          "output_type": "stream",
          "name": "stdout",
          "text": [
            "{'spain': 'madrid', 'france': 'paris', 'germany': 'berlin', 'norway': 'oslo'}\n"
          ]
        }
      ]
    },
    {
      "cell_type": "code",
      "source": [
        "# Definition of dictionary\n",
        "europe = {'spain':'madrid', 'france':'paris', 'germany':'berlin', 'norway':'oslo' }\n",
        "\n",
        "# Print out the keys in europe\n",
        "print (europe.keys())\n",
        "\n",
        "#print out the values in europe\n",
        "print (europe.values())\n",
        "\n",
        "# Print out value that belongs to key 'norway'\n",
        "print (europe['norway'])"
      ],
      "metadata": {
        "colab": {
          "base_uri": "https://localhost:8080/"
        },
        "id": "4TYkCzJ7MOrM",
        "outputId": "cc22ed56-048c-4237-e851-60df687e9f1b"
      },
      "execution_count": null,
      "outputs": [
        {
          "output_type": "stream",
          "name": "stdout",
          "text": [
            "dict_keys(['spain', 'france', 'germany', 'norway'])\n",
            "dict_values(['madrid', 'paris', 'berlin', 'oslo'])\n",
            "oslo\n"
          ]
        }
      ]
    },
    {
      "cell_type": "code",
      "source": [
        "# Definition of dictionary\n",
        "europe = {'spain':'madrid', 'france':'paris', 'germany':'berlin', 'norway':'oslo' }\n",
        "\n",
        "# Add italy to europe\n",
        "europe['italy'] = 'rome'\n",
        "\n",
        "# Print out italy in europe\n",
        "print ('italy' in europe)\n",
        "\n",
        "# Add poland to europe\n",
        "europe['poland'] = 'warsaw'\n",
        "\n",
        "# Print europe\n",
        "print(europe)"
      ],
      "metadata": {
        "colab": {
          "base_uri": "https://localhost:8080/"
        },
        "id": "8V_W1wFpQGcn",
        "outputId": "c0dd316f-fcdd-437b-8582-998027b227eb"
      },
      "execution_count": null,
      "outputs": [
        {
          "output_type": "stream",
          "name": "stdout",
          "text": [
            "True\n",
            "{'spain': 'madrid', 'france': 'paris', 'germany': 'berlin', 'norway': 'oslo', 'italy': 'rome', 'poland': 'warsaw'}\n"
          ]
        }
      ]
    },
    {
      "cell_type": "code",
      "source": [
        "# Definition of dictionary\n",
        "europe = {'spain':'madrid', 'france':'paris', 'germany':'bonn',\n",
        "          'norway':'oslo', 'italy':'rome', 'poland':'warsaw',\n",
        "          'australia':'vienna' }\n",
        "\n",
        "# Update capital of germany\n",
        "europe['germany'] = 'berlin'\n",
        "europe\n",
        "\n",
        "# Remove australia\n",
        "del(europe['australia'])\n",
        "\n",
        "# Print europe\n",
        "print(europe)"
      ],
      "metadata": {
        "colab": {
          "base_uri": "https://localhost:8080/"
        },
        "id": "OJXca19DQHF9",
        "outputId": "ada2a8f0-a4fa-4da8-9e37-6c77fece7e69"
      },
      "execution_count": null,
      "outputs": [
        {
          "output_type": "stream",
          "name": "stdout",
          "text": [
            "{'spain': 'madrid', 'france': 'paris', 'germany': 'berlin', 'norway': 'oslo', 'italy': 'rome', 'poland': 'warsaw'}\n"
          ]
        }
      ]
    },
    {
      "cell_type": "code",
      "source": [
        "# Dictionary of dictionaries\n",
        "europe = { 'spain': { 'capital':'madrid', 'population':46.77 },\n",
        "           'france': { 'capital':'paris', 'population':66.03 },\n",
        "           'germany': { 'capital':'berlin', 'population':80.62 },\n",
        "           'norway': { 'capital':'oslo', 'population':5.084 } }\n",
        "\n",
        "\n",
        "# Print out the capital of France\n",
        "print (europe['france']['capital'])\n",
        "\n",
        "# Create sub-dictionary data\n",
        "data = {'capital':'rome', 'population':59.83}\n",
        "\n",
        "# Add data to europe under key 'italy'\n",
        "europe['italy'] = data\n",
        "\n",
        "# Print europe\n",
        "print(europe)"
      ],
      "metadata": {
        "colab": {
          "base_uri": "https://localhost:8080/"
        },
        "id": "Nn_GHY-OVYC5",
        "outputId": "04c8558f-11b2-427c-f469-0056003eac8f"
      },
      "execution_count": null,
      "outputs": [
        {
          "output_type": "stream",
          "name": "stdout",
          "text": [
            "paris\n",
            "{'spain': {'capital': 'madrid', 'population': 46.77}, 'france': {'capital': 'paris', 'population': 66.03}, 'germany': {'capital': 'berlin', 'population': 80.62}, 'norway': {'capital': 'oslo', 'population': 5.084}, 'italy': {'capital': 'rome', 'population': 59.83}}\n"
          ]
        }
      ]
    },
    {
      "cell_type": "markdown",
      "source": [
        "# **PANDAS**\n",
        "\n",
        "- HIGH LEVEL DATA MANIPULATION TOOL\n",
        "- BUILT ON NUMPY\n",
        "- DATAFRAME"
      ],
      "metadata": {
        "id": "ZDkOSgO6FMl9"
      }
    },
    {
      "cell_type": "code",
      "source": [
        "# Pre-defined lists\n",
        "names = ['United States', 'Australia', 'Japan', 'India', 'Russia', 'Morocco', 'Egypt']\n",
        "dr =  [True, False, False, False, True, True, True]\n",
        "cpc = [809, 731, 588, 18, 200, 70, 45]\n",
        "\n",
        "# Import pandas as pd\n",
        "import pandas as pd\n",
        "\n",
        "# Create dictionary my_dict with three key:value pairs: my_dict\n",
        "my_dict = {'country':names, 'drives_right':dr,\n",
        "           'cars_per_cap':cpc}\n",
        "\n",
        "# Build a DataFrame cars from my_dict: cars\n",
        "cars = pd.DataFrame(my_dict)\n",
        "\n",
        "# Print cars\n",
        "print(cars)"
      ],
      "metadata": {
        "colab": {
          "base_uri": "https://localhost:8080/"
        },
        "id": "JKQ6kMUyVmsY",
        "outputId": "b3cce216-b26d-4f49-abc5-5e32266f9d78"
      },
      "execution_count": null,
      "outputs": [
        {
          "output_type": "stream",
          "name": "stdout",
          "text": [
            "         country  drives_right  cars_per_cap\n",
            "0  United States          True           809\n",
            "1      Australia         False           731\n",
            "2          Japan         False           588\n",
            "3          India         False            18\n",
            "4         Russia          True           200\n",
            "5        Morocco          True            70\n",
            "6          Egypt          True            45\n"
          ]
        }
      ]
    },
    {
      "cell_type": "code",
      "source": [
        "fruits = {\n",
        "    'apples':{'cost':3, 'units':100},\n",
        "    'bananas':{'cost':1, 'units':80},\n",
        "    'grapes':{'cost':5, 'units':500}\n",
        "}"
      ],
      "metadata": {
        "id": "32ot0k61wDMU"
      },
      "execution_count": null,
      "outputs": []
    },
    {
      "cell_type": "code",
      "source": [
        "print(fruits['bananas']['units'])"
      ],
      "metadata": {
        "colab": {
          "base_uri": "https://localhost:8080/"
        },
        "id": "UHHrvQSZ4Ol9",
        "outputId": "86cbeeaa-da39-4843-be79-b32c0a2ef7df"
      },
      "execution_count": null,
      "outputs": [
        {
          "output_type": "stream",
          "name": "stdout",
          "text": [
            "80\n"
          ]
        }
      ]
    },
    {
      "cell_type": "code",
      "source": [
        "x = [1,2,3,4,5]\n",
        "print(x[1:4])"
      ],
      "metadata": {
        "colab": {
          "base_uri": "https://localhost:8080/"
        },
        "id": "UbrPI2nE5ukz",
        "outputId": "9f36eb64-a828-4327-c028-445f7551ed47"
      },
      "execution_count": null,
      "outputs": [
        {
          "output_type": "stream",
          "name": "stdout",
          "text": [
            "[2, 3, 4]\n"
          ]
        }
      ]
    },
    {
      "cell_type": "code",
      "source": [
        "import numpy as np\n",
        "np_heights = np.array([[1.75,1.65,1.8,1.5],[1.56,1.70,1.4,1.29],[1.49,1.68,1.3,1.8]])\n",
        "np.sort(np_heights[0])\n",
        "print(np.median(np_heights[:,0]))"
      ],
      "metadata": {
        "colab": {
          "base_uri": "https://localhost:8080/"
        },
        "id": "j1Zu6mqC6mA0",
        "outputId": "ce0caaef-8e00-48c0-e60c-7abd010c5698"
      },
      "execution_count": null,
      "outputs": [
        {
          "output_type": "stream",
          "name": "stdout",
          "text": [
            "1.56\n"
          ]
        }
      ]
    },
    {
      "cell_type": "code",
      "source": [
        "q = [20, 11, 48, 1, 17, 47]\n",
        "print(len(q))"
      ],
      "metadata": {
        "colab": {
          "base_uri": "https://localhost:8080/"
        },
        "id": "tuuB_O6x6rhy",
        "outputId": "12548c8c-f0b0-4610-8cd7-dc7b11a9d144"
      },
      "execution_count": null,
      "outputs": [
        {
          "output_type": "stream",
          "name": "stdout",
          "text": [
            "6\n"
          ]
        }
      ]
    },
    {
      "cell_type": "code",
      "source": [
        "import numpy as np\n",
        "p = np.array([15,5,6,6])\n",
        "print(p[0])"
      ],
      "metadata": {
        "colab": {
          "base_uri": "https://localhost:8080/"
        },
        "id": "YXgRSKZI6-Q2",
        "outputId": "ae19beeb-24de-4a21-e78b-b0f1a50945df"
      },
      "execution_count": null,
      "outputs": [
        {
          "output_type": "stream",
          "name": "stdout",
          "text": [
            "15\n"
          ]
        }
      ]
    },
    {
      "cell_type": "code",
      "source": [
        "y = \"this is a random sentence\"\n",
        "print(y.upper())"
      ],
      "metadata": {
        "colab": {
          "base_uri": "https://localhost:8080/"
        },
        "id": "riYI1mZv7Mn8",
        "outputId": "ed43b301-1d9f-4285-f255-e7bdddad133b"
      },
      "execution_count": null,
      "outputs": [
        {
          "output_type": "stream",
          "name": "stdout",
          "text": [
            "THIS IS A RANDOM SENTENCE\n"
          ]
        }
      ]
    },
    {
      "cell_type": "code",
      "source": [
        "import numpy as np\n",
        "x = np.array([\"Jan\", \"Feb\", \"Mar\", \"Apr\"])\n",
        "print(x[0:4])"
      ],
      "metadata": {
        "colab": {
          "base_uri": "https://localhost:8080/"
        },
        "id": "NnY5kSX27sWi",
        "outputId": "d8c2a444-26f0-41de-f094-20fc3c1e0f9d"
      },
      "execution_count": null,
      "outputs": [
        {
          "output_type": "stream",
          "name": "stdout",
          "text": [
            "['Jan' 'Feb' 'Mar' 'Apr']\n"
          ]
        }
      ]
    },
    {
      "cell_type": "code",
      "source": [
        "import numpy as np\n",
        "x = np.array([10, 23, 14, 27])\n",
        "y = np.array([3, 5, 7, 26])\n",
        "z = np.array([x, y])\n",
        "print(z.shape)"
      ],
      "metadata": {
        "colab": {
          "base_uri": "https://localhost:8080/"
        },
        "id": "xKpu591o7zgM",
        "outputId": "267e2d16-ae80-4e4a-9035-8f6aae8c645d"
      },
      "execution_count": null,
      "outputs": [
        {
          "output_type": "stream",
          "name": "stdout",
          "text": [
            "(2, 4)\n"
          ]
        }
      ]
    },
    {
      "cell_type": "code",
      "source": [
        "np.array([True, 1, 2]) + np.array([3, 4, False])"
      ],
      "metadata": {
        "colab": {
          "base_uri": "https://localhost:8080/"
        },
        "id": "gfMd_rmz8RLh",
        "outputId": "f8fc6933-6655-467f-cb27-1c54668b07ca"
      },
      "execution_count": null,
      "outputs": [
        {
          "output_type": "execute_result",
          "data": {
            "text/plain": [
              "array([4, 5, 2])"
            ]
          },
          "metadata": {},
          "execution_count": 14
        }
      ]
    },
    {
      "cell_type": "code",
      "source": [
        "import numpy as np\n",
        "np.array([0, True, \"python\"])"
      ],
      "metadata": {
        "colab": {
          "base_uri": "https://localhost:8080/"
        },
        "id": "F7U0ibFF8Ujx",
        "outputId": "43181e51-13f1-40cd-8b64-88a93f0234f5"
      },
      "execution_count": null,
      "outputs": [
        {
          "output_type": "execute_result",
          "data": {
            "text/plain": [
              "array(['0', 'True', 'python'], dtype='<U21')"
            ]
          },
          "metadata": {},
          "execution_count": 15
        }
      ]
    },
    {
      "cell_type": "code",
      "source": [
        "import numpy as np\n",
        "np_arr1 = np.array([1,2,3,4])\n",
        "np_arr2 = np.array([5,6,7,8])\n",
        "print(np.column_stack((np_arr1, np_arr2)))"
      ],
      "metadata": {
        "colab": {
          "base_uri": "https://localhost:8080/"
        },
        "id": "AEzFb7AD8sDi",
        "outputId": "1d53a0b1-46f3-4455-c671-f000d8090911"
      },
      "execution_count": null,
      "outputs": [
        {
          "output_type": "stream",
          "name": "stdout",
          "text": [
            "[[1 5]\n",
            " [2 6]\n",
            " [3 7]\n",
            " [4 8]]\n"
          ]
        }
      ]
    },
    {
      "cell_type": "markdown",
      "source": [
        "# **Comparison operators**\n",
        "\n",
        "- Numpy recap\n",
        "- Numeric comparisons"
      ],
      "metadata": {
        "id": "AXWw3VcY5mcH"
      }
    },
    {
      "cell_type": "code",
      "source": [
        "\"carl\"<\"chris\""
      ],
      "metadata": {
        "colab": {
          "base_uri": "https://localhost:8080/"
        },
        "id": "2Fk1l5iy6vfW",
        "outputId": "5a8860bd-ebe8-42a3-f1e7-60a711994be7"
      },
      "execution_count": null,
      "outputs": [
        {
          "output_type": "execute_result",
          "data": {
            "text/plain": [
              "True"
            ]
          },
          "metadata": {},
          "execution_count": 1
        }
      ]
    },
    {
      "cell_type": "code",
      "source": [
        "3 < 4.1"
      ],
      "metadata": {
        "colab": {
          "base_uri": "https://localhost:8080/"
        },
        "id": "FByL7hTt5l6G",
        "outputId": "4a077aaf-3e0c-47d8-8c00-502281cd366d"
      },
      "execution_count": null,
      "outputs": [
        {
          "output_type": "execute_result",
          "data": {
            "text/plain": [
              "True"
            ]
          },
          "metadata": {},
          "execution_count": 3
        }
      ]
    },
    {
      "cell_type": "code",
      "source": [
        "import numpy as np\n",
        "bmi = np.array([21.852, 20.975, 21.75, 24.747, 21.441])\n",
        "bmi"
      ],
      "metadata": {
        "colab": {
          "base_uri": "https://localhost:8080/"
        },
        "id": "4zU-PhYq7MeT",
        "outputId": "5b3ed3a3-d35e-43da-ee07-426b0c56274b"
      },
      "execution_count": null,
      "outputs": [
        {
          "output_type": "execute_result",
          "data": {
            "text/plain": [
              "array([21.852, 20.975, 21.75 , 24.747, 21.441])"
            ]
          },
          "metadata": {},
          "execution_count": 6
        }
      ]
    },
    {
      "cell_type": "code",
      "source": [
        "bmi>23"
      ],
      "metadata": {
        "colab": {
          "base_uri": "https://localhost:8080/"
        },
        "id": "1tNbc9LX7sTl",
        "outputId": "2aa15228-3a96-4b9e-9aaf-6790855d92e2"
      },
      "execution_count": null,
      "outputs": [
        {
          "output_type": "execute_result",
          "data": {
            "text/plain": [
              "array([False, False, False,  True, False])"
            ]
          },
          "metadata": {},
          "execution_count": 7
        }
      ]
    },
    {
      "cell_type": "code",
      "source": [
        "print(type(bmi))"
      ],
      "metadata": {
        "colab": {
          "base_uri": "https://localhost:8080/"
        },
        "id": "kmEYvKRR74D1",
        "outputId": "56ee6973-93bb-4ed4-f9b3-e01f04920543"
      },
      "execution_count": null,
      "outputs": [
        {
          "output_type": "stream",
          "name": "stdout",
          "text": [
            "<class 'numpy.ndarray'>\n"
          ]
        }
      ]
    },
    {
      "cell_type": "code",
      "source": [
        "2 == (1 + 1)\n",
        "\"intermediate\" != \"python\"\n",
        "True != False\n",
        "\"Python\" != \"python\""
      ],
      "metadata": {
        "colab": {
          "base_uri": "https://localhost:8080/"
        },
        "id": "XpMkoIe78Q_l",
        "outputId": "9985e825-28b5-462a-ed34-016aec70089c"
      },
      "execution_count": null,
      "outputs": [
        {
          "output_type": "execute_result",
          "data": {
            "text/plain": [
              "True"
            ]
          },
          "metadata": {},
          "execution_count": 9
        }
      ]
    },
    {
      "cell_type": "code",
      "source": [
        "# Comparison of booleans\n",
        "print(True == False)\n",
        "\n",
        "# Comparison of integers\n",
        "print((-5*15) != 75)\n",
        "\n",
        "# Comparison of strings\n",
        "print(\"pyscript\" == \"PyScript\")\n",
        "\n",
        "# Compare a boolean with an integer\n",
        "print(True == 1)"
      ],
      "metadata": {
        "colab": {
          "base_uri": "https://localhost:8080/"
        },
        "id": "rZVljLIf84cS",
        "outputId": "5d3f6383-d09f-455d-b848-476e523b08d5"
      },
      "execution_count": null,
      "outputs": [
        {
          "output_type": "stream",
          "name": "stdout",
          "text": [
            "False\n",
            "True\n",
            "False\n",
            "True\n"
          ]
        }
      ]
    },
    {
      "cell_type": "code",
      "source": [
        "print(3 < 4)\n",
        "print(3 <= 4)\n",
        "print(\"alpha\" <= \"beta\")"
      ],
      "metadata": {
        "colab": {
          "base_uri": "https://localhost:8080/"
        },
        "id": "z5EedzcC85RN",
        "outputId": "e3f1fffe-3380-43fe-a44b-6d2f51938d64"
      },
      "execution_count": null,
      "outputs": [
        {
          "output_type": "stream",
          "name": "stdout",
          "text": [
            "True\n",
            "True\n",
            "True\n"
          ]
        }
      ]
    },
    {
      "cell_type": "code",
      "source": [
        "# Comparison of integers\n",
        "x = -3 * 6\n",
        "print(x >= (-10))\n",
        "\n",
        "# Comparison of strings\n",
        "y = \"test\"\n",
        "print (\"test\" <= y)\n",
        "\n",
        "# Comparison of booleans\n",
        "print (True > False)"
      ],
      "metadata": {
        "colab": {
          "base_uri": "https://localhost:8080/"
        },
        "id": "4IX9226t-B3a",
        "outputId": "683e097f-8f98-4e7e-9b27-0d3ecd6e9a52"
      },
      "execution_count": null,
      "outputs": [
        {
          "output_type": "stream",
          "name": "stdout",
          "text": [
            "False\n",
            "True\n",
            "True\n"
          ]
        }
      ]
    },
    {
      "cell_type": "code",
      "source": [
        "my_kitchen = 18.0\n",
        "your_kitchen = 14.0"
      ],
      "metadata": {
        "id": "JSDBHOn2CpR0"
      },
      "execution_count": null,
      "outputs": []
    },
    {
      "cell_type": "code",
      "source": [
        "print(my_kitchen > 10 and my_kitchen < 18)"
      ],
      "metadata": {
        "colab": {
          "base_uri": "https://localhost:8080/"
        },
        "id": "swNbLX0PCrAt",
        "outputId": "f983b88f-53eb-432d-b287-f167122d84c9"
      },
      "execution_count": null,
      "outputs": [
        {
          "output_type": "stream",
          "name": "stdout",
          "text": [
            "False\n"
          ]
        }
      ]
    },
    {
      "cell_type": "code",
      "source": [
        "print(my_kitchen < 14 or my_kitchen > 17)"
      ],
      "metadata": {
        "colab": {
          "base_uri": "https://localhost:8080/"
        },
        "id": "03h5oS-ODJvh",
        "outputId": "6f77ed27-8a9c-49b5-9344-1ddb704beae1"
      },
      "execution_count": null,
      "outputs": [
        {
          "output_type": "stream",
          "name": "stdout",
          "text": [
            "True\n"
          ]
        }
      ]
    },
    {
      "cell_type": "code",
      "source": [
        "# Define variables\n",
        "my_kitchen = 18.0\n",
        "your_kitchen = 14.0\n",
        "\n",
        "# my_kitchen bigger than 10 and smaller than 18?\n",
        "print(my_kitchen > 10 and my_kitchen < 18)\n",
        "\n",
        "# my_kitchen smaller than 14 or bigger than 17?\n",
        "print((my_kitchen < 14) or (my_kitchen > 17))\n",
        "\n",
        "# Double my_kitchen smaller than triple your_kitchen?\n",
        "print((2*my_kitchen)<(3*your_kitchen))"
      ],
      "metadata": {
        "colab": {
          "base_uri": "https://localhost:8080/"
        },
        "id": "SxAEhMtCEUrZ",
        "outputId": "9e802232-986b-4c86-855e-d648adac2f9b"
      },
      "execution_count": null,
      "outputs": [
        {
          "output_type": "stream",
          "name": "stdout",
          "text": [
            "False\n",
            "True\n",
            "True\n"
          ]
        }
      ]
    },
    {
      "cell_type": "code",
      "source": [
        "x = 8\n",
        "y = 9\n",
        "not(not(x < 3) and not(y > 14 or y > 10))"
      ],
      "metadata": {
        "colab": {
          "base_uri": "https://localhost:8080/"
        },
        "id": "F2JXmrnbEZD6",
        "outputId": "6ee95463-5e16-459a-e23c-e90072b2f33c"
      },
      "execution_count": null,
      "outputs": [
        {
          "output_type": "execute_result",
          "data": {
            "text/plain": [
              "False"
            ]
          },
          "metadata": {},
          "execution_count": 18
        }
      ]
    },
    {
      "cell_type": "code",
      "source": [
        "# Create arrays\n",
        "import numpy as np\n",
        "my_house = np.array([18.0, 20.0, 10.75, 9.50])\n",
        "your_house = np.array([14.0, 24.0, 14.25, 9.0])\n",
        "\n",
        "# my_house greater than 18.5 or smaller than 10\n",
        "print(np.logical_or(my_house>18.5,my_house<10))\n",
        "\n",
        "# Both my_house and your_house smaller than 11\n",
        "print(np.logical_and(my_house<11,your_house<11))"
      ],
      "metadata": {
        "colab": {
          "base_uri": "https://localhost:8080/"
        },
        "id": "obQeu6lkGAWn",
        "outputId": "fc01eaab-bc38-46c8-bed2-433ecdece0d1"
      },
      "execution_count": null,
      "outputs": [
        {
          "output_type": "stream",
          "name": "stdout",
          "text": [
            "[False  True False  True]\n",
            "[False False False  True]\n"
          ]
        }
      ]
    },
    {
      "cell_type": "code",
      "source": [
        "area = 10.0\n",
        "if(area < 9) :\n",
        "    print(\"small\")\n",
        "elif(area < 12) :\n",
        "    print(\"medium\")\n",
        "else :\n",
        "    print(\"large\")"
      ],
      "metadata": {
        "colab": {
          "base_uri": "https://localhost:8080/"
        },
        "id": "Krc2rMw1GBHi",
        "outputId": "935a4206-1a29-48f0-9500-63682109d0b8"
      },
      "execution_count": null,
      "outputs": [
        {
          "output_type": "stream",
          "name": "stdout",
          "text": [
            "medium\n"
          ]
        }
      ]
    },
    {
      "cell_type": "markdown",
      "source": [
        "# **Filtering Pandas DataFrame**"
      ],
      "metadata": {
        "id": "aVJn4w-fnLgj"
      }
    },
    {
      "cell_type": "markdown",
      "source": [
        "\n",
        "\n",
        "```\n",
        "# While loop\n",
        "\n"
      ],
      "metadata": {
        "id": "JvmSbYAekcy6"
      }
    },
    {
      "cell_type": "code",
      "source": [
        "x = 1\n",
        "while x < 4 :\n",
        "    print(x)\n",
        "    x = x + 1"
      ],
      "metadata": {
        "colab": {
          "base_uri": "https://localhost:8080/"
        },
        "id": "JB8N59JFkeyv",
        "outputId": "c6967923-0c99-4f30-f375-a7f5df119672"
      },
      "execution_count": null,
      "outputs": [
        {
          "output_type": "stream",
          "name": "stdout",
          "text": [
            "1\n",
            "2\n",
            "3\n"
          ]
        }
      ]
    },
    {
      "cell_type": "code",
      "source": [
        "error = 50.0\n",
        "while error > 1 :\n",
        "    error = error / 4\n",
        "    print(error)"
      ],
      "metadata": {
        "colab": {
          "base_uri": "https://localhost:8080/"
        },
        "id": "bitTE7oilS7S",
        "outputId": "72493961-8d70-491e-8d15-4f8e81207fb1"
      },
      "execution_count": null,
      "outputs": [
        {
          "output_type": "stream",
          "name": "stdout",
          "text": [
            "12.5\n",
            "3.125\n",
            "0.78125\n"
          ]
        }
      ]
    },
    {
      "cell_type": "code",
      "source": [
        "#exercise on datacamp\n",
        "# Initialize offset\n",
        "offset = 8\n",
        "\n",
        "# Code the while loop\n",
        "while offset!= 0:\n",
        "    print(\"correcting...\")\n",
        "    offset = offset - 1\n",
        "    print(offset)"
      ],
      "metadata": {
        "colab": {
          "base_uri": "https://localhost:8080/"
        },
        "id": "qtPXyS7ymvai",
        "outputId": "3fe04c49-9e7e-40d1-d842-3d7476ecd5ca"
      },
      "execution_count": null,
      "outputs": [
        {
          "output_type": "stream",
          "name": "stdout",
          "text": [
            "correcting...\n",
            "7\n",
            "correcting...\n",
            "6\n",
            "correcting...\n",
            "5\n",
            "correcting...\n",
            "4\n",
            "correcting...\n",
            "3\n",
            "correcting...\n",
            "2\n",
            "correcting...\n",
            "1\n",
            "correcting...\n",
            "0\n"
          ]
        }
      ]
    },
    {
      "cell_type": "code",
      "source": [
        "# Initialize offset\n",
        "offset = -6\n",
        "\n",
        "# Code the while loop\n",
        "while offset != 0:\n",
        "    print(\"correcting...\")\n",
        "    offset = offset + 1  # move offset towards 0\n",
        "    print(offset)"
      ],
      "metadata": {
        "colab": {
          "base_uri": "https://localhost:8080/"
        },
        "id": "kXxcTFe7njEu",
        "outputId": "d1c7b6a4-f1f6-4f90-bfeb-690c7e61819e"
      },
      "execution_count": null,
      "outputs": [
        {
          "output_type": "stream",
          "name": "stdout",
          "text": [
            "correcting...\n",
            "-5\n",
            "correcting...\n",
            "-4\n",
            "correcting...\n",
            "-3\n",
            "correcting...\n",
            "-2\n",
            "correcting...\n",
            "-1\n",
            "correcting...\n",
            "0\n"
          ]
        }
      ]
    },
    {
      "cell_type": "code",
      "source": [
        "# Initialize offset\n",
        "offset = -6\n",
        "\n",
        "# Code the while loop\n",
        "while offset != 0:\n",
        "    print(\"correcting...\")\n",
        "    if offset > 0:\n",
        "        offset = offset - 1\n",
        "    else:\n",
        "        offset = offset + 1\n",
        "    print(offset)"
      ],
      "metadata": {
        "colab": {
          "base_uri": "https://localhost:8080/"
        },
        "id": "Nc-WkqMmoM8N",
        "outputId": "331243eb-6c87-440c-8d0a-b488975d4c71"
      },
      "execution_count": null,
      "outputs": [
        {
          "output_type": "stream",
          "name": "stdout",
          "text": [
            "correcting...\n",
            "-5\n",
            "correcting...\n",
            "-4\n",
            "correcting...\n",
            "-3\n",
            "correcting...\n",
            "-2\n",
            "correcting...\n",
            "-1\n",
            "correcting...\n",
            "0\n"
          ]
        }
      ]
    },
    {
      "cell_type": "code",
      "source": [
        "fam = [1.73, 1.68, 1.71, 1.89]\n",
        "for height in fam :\n",
        "    print(height)"
      ],
      "metadata": {
        "colab": {
          "base_uri": "https://localhost:8080/"
        },
        "id": "W6KRM2oYqPIM",
        "outputId": "670c1ec7-b5d1-45fc-ee19-02d7503873e4"
      },
      "execution_count": null,
      "outputs": [
        {
          "output_type": "stream",
          "name": "stdout",
          "text": [
            "1.73\n",
            "1.68\n",
            "1.71\n",
            "1.89\n"
          ]
        }
      ]
    },
    {
      "cell_type": "code",
      "source": [
        "# areas list\n",
        "areas = [11.25, 18.0, 20.0, 10.75, 9.50]\n",
        "\n",
        "# Code the for loop\n",
        "for area in areas :\n",
        "    print(area)"
      ],
      "metadata": {
        "colab": {
          "base_uri": "https://localhost:8080/"
        },
        "id": "jCUZIAmMryAk",
        "outputId": "ca07d9d6-ed22-4f56-c93a-dc14274c7706"
      },
      "execution_count": null,
      "outputs": [
        {
          "output_type": "stream",
          "name": "stdout",
          "text": [
            "11.25\n",
            "18.0\n",
            "20.0\n",
            "10.75\n",
            "9.5\n"
          ]
        }
      ]
    },
    {
      "cell_type": "code",
      "source": [
        "fam = [1.73, 1.68, 1.71, 1.89]\n",
        "for index, height in enumerate(fam) :\n",
        "    print(\"person \" + str(index) + \": \" + str(height))"
      ],
      "metadata": {
        "colab": {
          "base_uri": "https://localhost:8080/"
        },
        "id": "4ENwuJhLr75T",
        "outputId": "1b75ecd8-0b15-4c41-985f-c9b8de828d75"
      },
      "execution_count": null,
      "outputs": [
        {
          "output_type": "stream",
          "name": "stdout",
          "text": [
            "person 0: 1.73\n",
            "person 1: 1.68\n",
            "person 2: 1.71\n",
            "person 3: 1.89\n"
          ]
        }
      ]
    },
    {
      "cell_type": "code",
      "source": [
        "# areas list\n",
        "areas = [11.25, 18.0, 20.0, 10.75, 9.50]\n",
        "\n",
        "# Change for loop to use enumerate() and update print()\n",
        "for index, area in enumerate(areas) :\n",
        "    print(\"room \" + str(index) + \": \" + str(area))"
      ],
      "metadata": {
        "colab": {
          "base_uri": "https://localhost:8080/"
        },
        "id": "RZr2GkW6tgx7",
        "outputId": "14b81837-ac1e-41ad-b8f6-47be81f83857"
      },
      "execution_count": null,
      "outputs": [
        {
          "output_type": "stream",
          "name": "stdout",
          "text": [
            "room 0: 11.25\n",
            "room 1: 18.0\n",
            "room 2: 20.0\n",
            "room 3: 10.75\n",
            "room 4: 9.5\n"
          ]
        }
      ]
    },
    {
      "cell_type": "code",
      "source": [
        "# areas list\n",
        "areas = [11.25, 18.0, 20.0, 10.75, 9.50]\n",
        "\n",
        "# Change for loop to use enumerate() and update print()\n",
        "for index, area in enumerate(areas):\n",
        "    print(\"room \" + str(index + 1) + \": \" + str(area))\n"
      ],
      "metadata": {
        "colab": {
          "base_uri": "https://localhost:8080/"
        },
        "id": "V9XwzVrxvQ0H",
        "outputId": "1408d42f-2e0c-40ed-d18b-0cbdc8f104a8"
      },
      "execution_count": null,
      "outputs": [
        {
          "output_type": "stream",
          "name": "stdout",
          "text": [
            "room 1: 11.25\n",
            "room 2: 18.0\n",
            "room 3: 20.0\n",
            "room 4: 10.75\n",
            "room 5: 9.5\n"
          ]
        }
      ]
    },
    {
      "cell_type": "code",
      "source": [
        "# house list of lists\n",
        "house = [[\"hallway\", 11.25],\n",
        "         [\"kitchen\", 18.0],\n",
        "         [\"living room\", 20.0],\n",
        "         [\"bedroom\", 10.75],\n",
        "         [\"bathroom\", 9.50]]\n",
        "\n",
        "# Build a for loop from scratch\n",
        "for room, area in house:\n",
        "     print(\"the \" + str(room) + \" is \" + str(area) + \" sqm\")"
      ],
      "metadata": {
        "colab": {
          "base_uri": "https://localhost:8080/"
        },
        "id": "F2vwGxQVw_qE",
        "outputId": "3d5cbe62-e627-486e-cedb-f21fbc791482"
      },
      "execution_count": null,
      "outputs": [
        {
          "output_type": "stream",
          "name": "stdout",
          "text": [
            "the hallway is 11.25 sqm\n",
            "the kitchen is 18.0 sqm\n",
            "the living room is 20.0 sqm\n",
            "the bedroom is 10.75 sqm\n",
            "the bathroom is 9.5 sqm\n"
          ]
        }
      ]
    },
    {
      "cell_type": "code",
      "source": [
        "# Definition of dictionary\n",
        "europe = {'spain':'madrid', 'france':'paris', 'germany':'berlin',\n",
        "          'norway':'oslo', 'italy':'rome', 'poland':'warsaw', 'austria':'vienna' }\n",
        "\n",
        "# Iterate over europe\n",
        "for k, v in europe.items():\n",
        "    print (\"the capital of \" + str(k) + \" is \" + str(v))"
      ],
      "metadata": {
        "colab": {
          "base_uri": "https://localhost:8080/"
        },
        "id": "2aY75Tik0QqD",
        "outputId": "e89d45e5-fce8-46d4-9605-6ba526322347"
      },
      "execution_count": null,
      "outputs": [
        {
          "output_type": "stream",
          "name": "stdout",
          "text": [
            "the capital of spain is madrid\n",
            "the capital of france is paris\n",
            "the capital of germany is berlin\n",
            "the capital of norway is oslo\n",
            "the capital of italy is rome\n",
            "the capital of poland is warsaw\n",
            "the capital of austria is vienna\n"
          ]
        }
      ]
    },
    {
      "cell_type": "code",
      "source": [
        "# NumPy is imported, seed is set\n",
        "import numpy as np\n",
        "\n",
        "# Starting step\n",
        "step = 50\n",
        "\n",
        "# Roll the dice\n",
        "dice = np.random.randint(1,7)\n",
        "print(\"Dice roll: \" + str(dice))\n",
        "\n",
        "# Finish the control construct\n",
        "if dice <= 2 :\n",
        "    step = step - 1\n",
        "elif dice <=5 :\n",
        "    step = step + 1\n",
        "else:\n",
        "    step = step + np.random.randint(1,7)\n",
        "\n",
        "# Print out dice and step\n",
        "print(\"Step:\", step)"
      ],
      "metadata": {
        "colab": {
          "base_uri": "https://localhost:8080/"
        },
        "id": "i5LQ5VzzWHbt",
        "outputId": "d2367982-22e8-4e51-852d-52ee0ae21d41"
      },
      "execution_count": null,
      "outputs": [
        {
          "output_type": "stream",
          "name": "stdout",
          "text": [
            "Dice roll: 5\n",
            "Step: 51\n"
          ]
        }
      ]
    },
    {
      "cell_type": "code",
      "source": [
        "import numpy as np\n",
        "np.random.seed(123)\n",
        "outcomes = []\n",
        "for x in range(10):\n",
        "  coin = np.random.randint(0,2)\n",
        "  if coin ==0:\n",
        "    outcomes.append(\"heads\")\n",
        "  else:\n",
        "    outcomes.append(\"tails\")\n",
        "print(outcomes)"
      ],
      "metadata": {
        "colab": {
          "base_uri": "https://localhost:8080/"
        },
        "id": "GHO2_UtzckFQ",
        "outputId": "067c183a-f937-4984-f382-82b5d5d673cb"
      },
      "execution_count": null,
      "outputs": [
        {
          "output_type": "stream",
          "name": "stdout",
          "text": [
            "['heads', 'tails', 'heads', 'heads', 'heads', 'heads', 'heads', 'tails', 'tails', 'heads']\n"
          ]
        }
      ]
    },
    {
      "cell_type": "code",
      "source": [
        "import numpy as np\n",
        "np.random.seed(123)\n",
        "tails = [0]\n",
        "for x in range(10):\n",
        "  coin = np.random.randint(0,2)\n",
        "  tails.append(tails[x] + coin)\n",
        "print(tails)"
      ],
      "metadata": {
        "colab": {
          "base_uri": "https://localhost:8080/"
        },
        "id": "FA-o2-AcdWUn",
        "outputId": "811a1677-2254-4ffe-d591-85c911a525b5"
      },
      "execution_count": null,
      "outputs": [
        {
          "output_type": "stream",
          "name": "stdout",
          "text": [
            "[0, 0, 1, 1, 1, 1, 1, 1, 2, 3, 3]\n"
          ]
        }
      ]
    },
    {
      "cell_type": "code",
      "source": [
        "# NumPy is imported, seed is set\n",
        "\n",
        "# Initialize random_walk\n",
        "random_walk = [0]\n",
        "\n",
        "for x in range(100) :\n",
        "    step = random_walk[-1]\n",
        "    dice = np.random.randint(1,7)\n",
        "\n",
        "    if dice <= 2:\n",
        "        # Replace below: use max to make sure step can't go below 0\n",
        "        step = max (10,step - 1)\n",
        "    elif dice <= 5:\n",
        "        step = step + 1\n",
        "    else:\n",
        "        step = step + np.random.randint(1,7)\n",
        "\n",
        "    random_walk.append(step)\n",
        "\n",
        "print(random_walk)"
      ],
      "metadata": {
        "colab": {
          "base_uri": "https://localhost:8080/"
        },
        "id": "wJw_46tNfylA",
        "outputId": "2f3aaa5c-45e9-4df3-fdea-69e5cce90dc5"
      },
      "execution_count": null,
      "outputs": [
        {
          "output_type": "stream",
          "name": "stdout",
          "text": [
            "[0, 1, 10, 10, 10, 10, 10, 10, 10, 10, 11, 16, 15, 14, 15, 14, 15, 16, 17, 18, 19, 18, 19, 18, 19, 20, 21, 22, 21, 25, 26, 25, 26, 25, 26, 27, 28, 29, 30, 31, 32, 35, 36, 37, 38, 43, 44, 48, 49, 48, 49, 50, 49, 50, 51, 53, 54, 55, 54, 53, 54, 55, 54, 53, 54, 55, 57, 56, 55, 56, 55, 56, 57, 58, 60, 59, 60, 61, 62, 63, 64, 63, 62, 63, 62, 63, 64, 63, 66, 67, 68, 69, 68, 69, 70, 74, 73, 72, 74, 73, 74]\n"
          ]
        }
      ]
    },
    {
      "cell_type": "code",
      "source": [
        "# NumPy is imported, seed is set\n",
        "\n",
        "# Initialize random_walk\n",
        "random_walk = [0]\n",
        "\n",
        "for x in range(100) :\n",
        "    step = random_walk[-1]\n",
        "    dice = np.random.randint(1,7)\n",
        "\n",
        "    if dice <= 2:\n",
        "        # Replace below: use max to make sure step can't go below 0\n",
        "        step = max (0,step - 1)\n",
        "    elif dice <= 5:\n",
        "        step = step + 1\n",
        "    else:\n",
        "        step = step + np.random.randint(1,7)\n",
        "\n",
        "    random_walk.append(step)\n",
        "\n",
        "print(random_walk)"
      ],
      "metadata": {
        "colab": {
          "base_uri": "https://localhost:8080/"
        },
        "id": "ycLFFG36gE2M",
        "outputId": "4f459418-c166-4a20-c146-c12270b2955a"
      },
      "execution_count": null,
      "outputs": [
        {
          "output_type": "stream",
          "name": "stdout",
          "text": [
            "[0, 2, 3, 4, 9, 8, 9, 10, 11, 12, 13, 12, 17, 18, 19, 20, 19, 18, 17, 16, 15, 16, 17, 18, 24, 23, 22, 21, 22, 23, 24, 23, 24, 25, 24, 29, 30, 29, 28, 27, 26, 27, 26, 25, 27, 28, 31, 32, 34, 35, 36, 37, 36, 35, 36, 37, 38, 39, 38, 39, 40, 41, 44, 45, 46, 45, 46, 45, 46, 47, 48, 52, 51, 50, 51, 52, 53, 52, 53, 52, 53, 55, 60, 59, 60, 61, 62, 63, 64, 65, 64, 65, 66, 67, 69, 71, 70, 71, 72, 75, 74]\n"
          ]
        }
      ]
    },
    {
      "cell_type": "code",
      "source": [
        "# NumPy is imported, seed is set\n",
        "\n",
        "# Initialization\n",
        "random_walk = [0]\n",
        "\n",
        "for x in range(100) :\n",
        "    step = random_walk[-1]\n",
        "    dice = np.random.randint(1,7)\n",
        "\n",
        "    if dice <= 2:\n",
        "        step = max(0, step - 1)\n",
        "    elif dice <= 5:\n",
        "        step = step + 1\n",
        "    else:\n",
        "        step = step + np.random.randint(1,7)\n",
        "\n",
        "    random_walk.append(step)\n",
        "\n",
        "# Import matplotlib.pyplot as plt\n",
        "import matplotlib.pyplot as plt\n",
        "\n",
        "# Plot random_walk\n",
        "plt.plot(random_walk)\n",
        "\n",
        "# Show the plot\n",
        "plt.show()\n"
      ],
      "metadata": {
        "colab": {
          "base_uri": "https://localhost:8080/",
          "height": 430
        },
        "id": "3TIutdNFgFT1",
        "outputId": "09102c4c-90f7-47f3-d8e8-e6a0c898420f"
      },
      "execution_count": null,
      "outputs": [
        {
          "output_type": "display_data",
          "data": {
            "text/plain": [
              "<Figure size 640x480 with 1 Axes>"
            ],
            "image/png": "[encoded data removed]"
          },
          "metadata": {}
        }
      ]
    }
  ]
}
